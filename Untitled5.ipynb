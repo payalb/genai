{
 "cells": [
  {
   "cell_type": "code",
   "execution_count": 1,
   "id": "426e68ad-55c3-43f0-ba95-4af243d45bef",
   "metadata": {},
   "outputs": [
    {
     "name": "stdout",
     "output_type": "stream",
     "text": [
      "- Climate change is causing rising sea levels and more frequent, severe extreme weather events, threatening coastal communities, infrastructure, and global agriculture.\n",
      "- Quantum computers, leveraging quantum mechanics, offer exponentially faster computation, revolutionizing fields like cryptography and drug discovery by enabling breakthroughs in encryption and molecular simulation.\n",
      "- Social media has revolutionized communication and information sharing, fostering global connection but also raising concerns about privacy, misinformation, and mental health.\n"
     ]
    }
   ],
   "source": [
    "from concurrent.futures import ThreadPoolExecutor\n",
    "from langchain_google_genai import ChatGoogleGenerativeAI\n",
    "\n",
    "# Initialize Gemini LLM via LangChain\n",
    "llm = ChatGoogleGenerativeAI(\n",
    "    model=\"gemini-1.5-flash\",\n",
    "    google_api_key=\"\",\n",
    "    temperature=0.3\n",
    ")\n",
    "\n",
    "def llm_call(prompt_question):\n",
    "    response = llm.invoke(prompt_question)\n",
    "    return response.content\n",
    "\n",
    "def parallel(prompt, inputs, n_workers=3):\n",
    "    with ThreadPoolExecutor(max_workers=n_workers) as executor:\n",
    "        futures = [executor.submit(llm_call, f\"{prompt}:\\n {inp}\") for inp in inputs]\n",
    "    return [f.result() for f in futures]\n",
    "\n",
    "# Example usage\n",
    "prompt = \"Summarize this paragraph in one sentence\"\n",
    "inputs = [\n",
    "    \"\"\"\n",
    "    Climate change is causing rising sea levels and extreme weather patterns globally. \n",
    "    Scientists have observed accelerating ice melt in polar regions, leading to coastal \n",
    "    flooding in low-lying areas. Additionally, communities worldwide are experiencing \n",
    "    more frequent and severe hurricanes, droughts, and other extreme weather events. \n",
    "    These changes pose significant risks to agriculture, infrastructure, and human \n",
    "    populations, particularly in vulnerable coastal regions and developing nations.\n",
    "    \"\"\",\n",
    "    \"\"\"\n",
    "    The development of quantum computers represents a major technological breakthrough\n",
    "    with far-reaching implications. These powerful machines leverage quantum mechanical\n",
    "    properties to perform complex calculations exponentially faster than classical computers.\n",
    "    In the field of cryptography, quantum computers could break many current encryption\n",
    "    methods while enabling new unbreakable encryption protocols. For drug discovery,\n",
    "    quantum computers could simulate molecular interactions with unprecedented accuracy,\n",
    "    potentially accelerating the development of new medicines and treatments for diseases.\n",
    "    \"\"\",\n",
    "    \"\"\"\n",
    "    Social media platforms have transformed how people communicate and share information\n",
    "    in the modern digital age. Platforms like Facebook, Twitter, and Instagram have created\n",
    "    virtual communities where users can instantly connect with friends and family across the\n",
    "    globe. These platforms enable the rapid spread of news, ideas, and cultural trends,\n",
    "    while also raising concerns about privacy, misinformation, and the impact on mental\n",
    "    health. The rise of social media has also revolutionized marketing, activism, and\n",
    "    how businesses engage with their customers.\n",
    "    \"\"\"\n",
    "]\n",
    "\n",
    "results = parallel(prompt, inputs)\n",
    "for r in results:\n",
    "    print(\"-\", r)\n"
   ]
  }
 ],
 "metadata": {
  "kernelspec": {
   "display_name": "Python 3 (ipykernel)",
   "language": "python",
   "name": "python3"
  },
  "language_info": {
   "codemirror_mode": {
    "name": "ipython",
    "version": 3
   },
   "file_extension": ".py",
   "mimetype": "text/x-python",
   "name": "python",
   "nbconvert_exporter": "python",
   "pygments_lexer": "ipython3",
   "version": "3.12.10"
  }
 },
 "nbformat": 4,
 "nbformat_minor": 5
}
