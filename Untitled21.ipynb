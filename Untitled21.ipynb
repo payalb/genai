{
 "cells": [
  {
   "cell_type": "raw",
   "id": "9964033f-5401-47dc-abeb-d283089ffc43",
   "metadata": {},
   "source": [
    "from langchain_google_genai import ChatGoogleGenerativeAI\n",
    "import os\n",
    "\n",
    "# Define the grounding tool\n",
    "grounding_tool = types.Tool(\n",
    "    google_search=types.GoogleSearch()\n",
    ")\n",
    "\n",
    "# Configure generation settings\n",
    "config = types.GenerateContentConfig(\n",
    "    tools=[grounding_tool]\n",
    ")\n",
    "    \n",
    "# Initialize Gemini LLM via LangChain\n",
    "llm = ChatGoogleGenerativeAI(\n",
    "    model=\"gemini-1.5-flash\",\n",
    "    google_api_key=\"AIza\",\n",
    "    temperature=0.3,\n",
    "    config = config\n",
    ")\n",
    "\n",
    "prompt = \"Who won the euro 2024?\"\n",
    "\n",
    "resp = llm.invoke( prompt)\n",
    "print(resp.content)\n"
   ]
  },
  {
   "cell_type": "code",
   "execution_count": null,
   "id": "bc88e683-4f1b-4b08-8491-66b37dffdb4d",
   "metadata": {},
   "outputs": [],
   "source": []
  }
 ],
 "metadata": {
  "kernelspec": {
   "display_name": "Python 3 (ipykernel)",
   "language": "python",
   "name": "python3"
  },
  "language_info": {
   "codemirror_mode": {
    "name": "ipython",
    "version": 3
   },
   "file_extension": ".py",
   "mimetype": "text/x-python",
   "name": "python",
   "nbconvert_exporter": "python",
   "pygments_lexer": "ipython3",
   "version": "3.12.10"
  }
 },
 "nbformat": 4,
 "nbformat_minor": 5
}
