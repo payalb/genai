{
 "cells": [
  {
   "cell_type": "code",
   "execution_count": 1,
   "id": "13e68939-f04f-4e4f-9401-a7b32762434c",
   "metadata": {},
   "outputs": [
    {
     "name": "stderr",
     "output_type": "stream",
     "text": [
      "C:\\Users\\payal bansal\\AppData\\Local\\Temp\\ipykernel_238472\\2377979837.py:28: LangChainDeprecationWarning: LangChain agents will continue to be supported, but it is recommended for new use cases to be built with LangGraph. LangGraph offers a more flexible and full-featured framework for building agents, including support for tool-calling, persistence of state, and human-in-the-loop workflows. For details, refer to the `LangGraph documentation <https://langchain-ai.github.io/langgraph/>`_ as well as guides for `Migrating from AgentExecutor <https://python.langchain.com/docs/how_to/migrate_agent/>`_ and LangGraph's `Pre-built ReAct agent <https://langchain-ai.github.io/langgraph/how-tos/create-react-agent/>`_.\n",
      "  agent = initialize_agent(\n",
      "C:\\Users\\payal bansal\\AppData\\Local\\Temp\\ipykernel_238472\\2377979837.py:41: LangChainDeprecationWarning: The method `Chain.run` was deprecated in langchain 0.1.0 and will be removed in 1.0. Use :meth:`~invoke` instead.\n",
      "  agent.run(prompt)\n"
     ]
    },
    {
     "name": "stdout",
     "output_type": "stream",
     "text": [
      "\n",
      "\n",
      "\u001b[1m> Entering new AgentExecutor chain...\u001b[0m\n",
      "\u001b[32;1m\u001b[1;3mThought:I need to use the create_path_tool three times to create the directory and files.\n",
      "\n",
      "Action:\n",
      "```json\n",
      "{\n",
      "  \"action\": \"create_path_tool\",\n",
      "  \"action_input\": {\n",
      "    \"path\": \"project\",\n",
      "    \"is_file\": false\n",
      "  }\n",
      "}\n",
      "```\u001b[0m\n",
      "Observation: \u001b[36;1m\u001b[1;3mDirectory created at project\u001b[0m\n",
      "Thought:\u001b[32;1m\u001b[1;3mAction:\n",
      "```json\n",
      "{\n",
      "  \"action\": \"create_path_tool\",\n",
      "  \"action_input\": {\n",
      "    \"path\": \"project/src/main.py\",\n",
      "    \"is_file\": true,\n",
      "    \"content\": \"print(\\\"Hello Gemini\\\")\"\n",
      "  }\n",
      "}\n",
      "```\u001b[0m\n",
      "Observation: \u001b[36;1m\u001b[1;3mFile created at project/src/main.py\u001b[0m\n",
      "Thought:\u001b[32;1m\u001b[1;3mAction:\n",
      "```json\n",
      "{\n",
      "  \"action\": \"create_path_tool\",\n",
      "  \"action_input\": {\n",
      "    \"path\": \"project/tests/test_main.py\",\n",
      "    \"is_file\": true,\n",
      "    \"content\": \"assert 1+1==2\"\n",
      "  }\n",
      "}\n",
      "```\u001b[0m\n",
      "Observation: \u001b[36;1m\u001b[1;3mFile created at project/tests/test_main.py\u001b[0m\n",
      "Thought:\u001b[32;1m\u001b[1;3mAction:\n",
      "```json\n",
      "{\n",
      "  \"action\": \"Final Answer\",\n",
      "  \"action_input\": \"Successfully created 'project' directory with 'src' and 'tests' subdirectories, and the 'main.py' and 'test_main.py' files with their respective contents.\"\n",
      "}\n",
      "```\u001b[0m\n",
      "\n",
      "\u001b[1m> Finished chain.\u001b[0m\n"
     ]
    },
    {
     "data": {
      "text/plain": [
       "\"Successfully created 'project' directory with 'src' and 'tests' subdirectories, and the 'main.py' and 'test_main.py' files with their respective contents.\""
      ]
     },
     "execution_count": 1,
     "metadata": {},
     "output_type": "execute_result"
    }
   ],
   "source": [
    "from langchain_google_genai import ChatGoogleGenerativeAI\n",
    "from langchain_core.tools import tool\n",
    "from langchain.agents import initialize_agent, AgentType\n",
    "import os\n",
    "\n",
    "os.environ[\"GOOGLE_API_KEY\"] ='AIza'\n",
    "\n",
    "def create_path(path: str, is_file: bool = False, content: str = \"\") -> str:\n",
    "    \"\"\"Utility to create file or folder with optional content.\"\"\"\n",
    "    if is_file:\n",
    "        os.makedirs(os.path.dirname(path), exist_ok=True)\n",
    "        with open(path, \"w\") as f:\n",
    "            f.write(content)\n",
    "        return f\"File created at {path}\"\n",
    "    else:\n",
    "        os.makedirs(path, exist_ok=True)\n",
    "        return f\"Directory created at {path}\"\n",
    "\n",
    "# Wrap our function as a LangChain tool\n",
    "@tool\n",
    "def create_path_tool(path: str, is_file: bool = False, content: str = \"\") -> str:\n",
    "    \"\"\"Create a file or folder with optional content.\"\"\"\n",
    "    return create_path(path, is_file, content)\n",
    "\n",
    "# Initialize Gemini model\n",
    "llm = ChatGoogleGenerativeAI(model=\"gemini-1.5-flash\", temperature=0.2)\n",
    "# Build agent with our tool\n",
    "agent = initialize_agent(\n",
    "    tools=[create_path_tool],\n",
    "    llm=llm,\n",
    "    agent=AgentType.STRUCTURED_CHAT_ZERO_SHOT_REACT_DESCRIPTION,  # <-- works with Gemini\n",
    "    verbose=True,\n",
    ")\n",
    "# Example user request\n",
    "prompt = \"\"\"\n",
    "Create a directory called 'project' with subfolders 'src' and 'tests'.\n",
    "Inside 'src', create a file 'main.py' with content: print(\"Hello Gemini\").\n",
    "Inside 'tests', create a file 'test_main.py' with content: assert 1+1==2.\n",
    "\"\"\"\n",
    "\n",
    "agent.run(prompt)\n"
   ]
  }
 ],
 "metadata": {
  "kernelspec": {
   "display_name": "Python 3 (ipykernel)",
   "language": "python",
   "name": "python3"
  },
  "language_info": {
   "codemirror_mode": {
    "name": "ipython",
    "version": 3
   },
   "file_extension": ".py",
   "mimetype": "text/x-python",
   "name": "python",
   "nbconvert_exporter": "python",
   "pygments_lexer": "ipython3",
   "version": "3.12.10"
  }
 },
 "nbformat": 4,
 "nbformat_minor": 5
}
