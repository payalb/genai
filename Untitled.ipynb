{
 "cells": [
  {
   "cell_type": "code",
   "execution_count": null,
   "id": "7ca4889e-409c-4c95-aa23-8c115013ec82",
   "metadata": {},
   "outputs": [],
   "source": [
    "!pip install langchain langchain-openai\n"
   ]
  },
  {
   "cell_type": "code",
   "execution_count": null,
   "id": "292b7c16-c810-452f-a7a7-e6875d37a5c3",
   "metadata": {},
   "outputs": [],
   "source": [
    "from langchain_openai import ChatOpenAI\n",
    "from langchain.agents import create_tool_calling_agent, Tool\n",
    "from langchain.agents import AgentExecutor\n",
    "import os\n",
    "\n",
    "# Define the function\n",
    "def create_directory(dir_name: str) -> str:\n",
    "    os.makedirs(dir_name, exist_ok=True)\n",
    "    return f\"Directory '{dir_name}' created successfully.\"\n",
    "\n",
    "# Wrap function as LangChain tool\n",
    "create_directory_tool = Tool(\n",
    "    name=\"create_directory\",\n",
    "    func=create_directory,\n",
    "    description=\"Creates a new directory with specified name.\"\n",
    ")\n"
   ]
  },
  {
   "cell_type": "code",
   "execution_count": null,
   "id": "bc8ca097-5f30-46e5-ad25-14e332c7d3ff",
   "metadata": {},
   "outputs": [],
   "source": [
    "# Initialize the Groq model via LangChain's OpenAI wrapper\n",
    "llm = ChatOpenAI(\n",
    "    model=\"meta-llama/llama-4-scout-17b-16e-instruct\",\n",
    "    base_url=\"https://api.groq.com/openai/v1\",\n",
    "    api_key=\"gsk_\"\n",
    ")\n",
    "\n",
    "# Create agent that knows how to call tools\n",
    "agent = create_tool_calling_agent(llm, [create_directory_tool])\n",
    "\n",
    "# Wrap in executor to run queries\n",
    "agent_executor = AgentExecutor(agent=agent, tools=[create_directory_tool], verbose=True)\n"
   ]
  },
  {
   "cell_type": "code",
   "execution_count": null,
   "id": "6ec109f2-ea1d-4bb0-a56e-42b01e4b2b87",
   "metadata": {},
   "outputs": [],
   "source": [
    "result = agent_executor.invoke({\"input\": \"Create a folder called 'my-folder'. Inside it create folder 'test-folder'.\"})\n",
    "\n",
    "print(result)\n"
   ]
  },
  {
   "cell_type": "code",
   "execution_count": null,
   "id": "a0ea18b6-66cc-470c-93e0-112a8a5b0003",
   "metadata": {},
   "outputs": [],
   "source": []
  }
 ],
 "metadata": {
  "kernelspec": {
   "display_name": "Python 3 (ipykernel)",
   "language": "python",
   "name": "python3"
  },
  "language_info": {
   "codemirror_mode": {
    "name": "ipython",
    "version": 3
   },
   "file_extension": ".py",
   "mimetype": "text/x-python",
   "name": "python",
   "nbconvert_exporter": "python",
   "pygments_lexer": "ipython3",
   "version": "3.12.10"
  }
 },
 "nbformat": 4,
 "nbformat_minor": 5
}
