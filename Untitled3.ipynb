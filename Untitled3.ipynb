{
 "cells": [
  {
   "cell_type": "code",
   "execution_count": 12,
   "id": "9f60e78d-dfcb-4e8f-97a7-341bd44eb707",
   "metadata": {},
   "outputs": [
    {
     "data": {
      "text/markdown": [
       "Based on the search results and information gathered, a positive news story from today, September 14, 2025, is:\n",
       "\n",
       "**Biological causes of daytime sleepiness discovered, Australia protects koalas against chlamydia, and automakers are meeting the EU's CO2 targets.**\n",
       "\n",
       "This story, found on the Good News English website, highlights several positive developments from around the world. The discovery of the biological causes of daytime sleepiness could lead to new treatments and improvements in overall health. The protection of koalas against chlamydia in Australia is a significant conservation effort, and the fact that automakers are meeting the EU's CO2 targets is a step towards reducing carbon emissions and mitigating climate change.\n",
       "\n",
       "This story stands out as a positive news story from today because it showcases progress and achievements in various fields, including science, conservation, and environmental sustainability. It provides a sense of hope and optimism, demonstrating that there are many good things happening in the world, even if they may not always receive the most attention."
      ],
      "text/plain": [
       "<IPython.core.display.Markdown object>"
      ]
     },
     "execution_count": 12,
     "metadata": {},
     "output_type": "execute_result"
    }
   ],
   "source": [
    "    from openai import OpenAI\n",
    "    from IPython.display import Markdown\n",
    "    client = OpenAI( base_url=\"https://api.groq.com/openai/v1\",\n",
    "                     api_key=\"gsk_\")\n",
    "        \n",
    "    def get_response(prompt_question):\n",
    "        response = client.chat.completions.create(\n",
    "             model=\"groq/compound\",\n",
    "            \n",
    "            messages= [{\"role\":\"user\", \"content\":prompt_question}]\n",
    "        )\n",
    "        \n",
    "        return response.choices[0].message.content\n",
    "    \n",
    "    output = get_response(\"What was a positive news story from today?\")\n",
    "    Markdown(output)"
   ]
  },
  {
   "cell_type": "code",
   "execution_count": null,
   "id": "051f9508-0e3b-4fa2-8870-547cc3a0d041",
   "metadata": {},
   "outputs": [],
   "source": []
  }
 ],
 "metadata": {
  "kernelspec": {
   "display_name": "Python 3 (ipykernel)",
   "language": "python",
   "name": "python3"
  },
  "language_info": {
   "codemirror_mode": {
    "name": "ipython",
    "version": 3
   },
   "file_extension": ".py",
   "mimetype": "text/x-python",
   "name": "python",
   "nbconvert_exporter": "python",
   "pygments_lexer": "ipython3",
   "version": "3.12.10"
  }
 },
 "nbformat": 4,
 "nbformat_minor": 5
}
