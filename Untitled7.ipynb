{
 "cells": [
  {
   "cell_type": "code",
   "execution_count": 1,
   "id": "200de115-5f3c-48ed-8373-99b267712080",
   "metadata": {},
   "outputs": [
    {
     "name": "stdout",
     "output_type": "stream",
     "text": [
      "Step 1: **Consider the number of arrangements without considering rotation.**\n",
      "\n",
      "If 12 people sit at a round table, we initially think of arranging them in a line.  The number of ways to arrange 12 people in a line is 12! (12 factorial).\n",
      "\n",
      "Step 2: **Account for rotational symmetry.**\n",
      "\n",
      "Because the table is round, any arrangement can be rotated 12 times and still be considered the same arrangement.  For example, if we have an arrangement A, rotating it by one seat gives the same arrangement.  This means we've overcounted.\n",
      "\n",
      "Step 3: **Correct for overcounting.**\n",
      "\n",
      "Since there are 12 possible rotations for each arrangement, we must divide the number of linear arrangements by the number of rotations.\n",
      "\n",
      "Step 4: **Calculate the number of unique arrangements.**\n",
      "\n",
      "The number of unique seating arrangements is:\n",
      "\n",
      "12! / 12 = 11!\n",
      "\n",
      "Step 5: **Compute the factorial.**\n",
      "\n",
      "11! = 11 × 10 × 9 × 8 × 7 × 6 × 5 × 4 × 3 × 2 × 1 = 39,916,800\n",
      "\n",
      "Final Answer: The final answer is $\\boxed{39,916,800}$\n"
     ]
    }
   ],
   "source": [
    "from langchain_google_genai import ChatGoogleGenerativeAI\n",
    "import os\n",
    "\n",
    "# Initialize Gemini LLM via LangChain\n",
    "llm = ChatGoogleGenerativeAI(\n",
    "    model=\"gemini-1.5-flash\",\n",
    "    google_api_key=\"AIz\",\n",
    "    temperature=0.3\n",
    ")\n",
    "prompt = \"\"\"\n",
    "Solve the math problem step-by-step, then give the final answer.\n",
    "\n",
    "Problem: If 12 people sit at a round table, how many unique seating arrangements (up to rotation) exist?\n",
    "\n",
    "Step-by-step:\n",
    "\"\"\"\n",
    "\n",
    "resp = llm.invoke( prompt)\n",
    "print(resp.content)\n"
   ]
  }
 ],
 "metadata": {
  "kernelspec": {
   "display_name": "Python 3 (ipykernel)",
   "language": "python",
   "name": "python3"
  },
  "language_info": {
   "codemirror_mode": {
    "name": "ipython",
    "version": 3
   },
   "file_extension": ".py",
   "mimetype": "text/x-python",
   "name": "python",
   "nbconvert_exporter": "python",
   "pygments_lexer": "ipython3",
   "version": "3.12.10"
  }
 },
 "nbformat": 4,
 "nbformat_minor": 5
}
